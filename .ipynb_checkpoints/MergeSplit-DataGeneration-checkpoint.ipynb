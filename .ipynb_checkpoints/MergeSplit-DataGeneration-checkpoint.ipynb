{
 "cells": [
  {
   "cell_type": "code",
   "execution_count": 53,
   "metadata": {
    "collapsed": true
   },
   "outputs": [],
   "source": [
    "import sys\n",
    "import os\n",
    "import json\n",
    "import numbers\n",
    "from hashlib import sha256 as H\n",
    "import random\n",
    "from random import choice\n",
    "import nacl.signing\n",
    "import nacl.encoding\n",
    "from nacl.public import PrivateKey"
   ]
  },
  {
   "cell_type": "code",
   "execution_count": 54,
   "metadata": {
    "collapsed": true
   },
   "outputs": [],
   "source": [
    "class Transaction:\n",
    "    def __init__(self, number, inp, out, sig):\n",
    "        self.number = number\n",
    "        self.inp = inp\n",
    "        self.out = out\n",
    "        self.sig = sig\n",
    "\n",
    "def serializeTransaction(transaction):\n",
    "    toSerialize = [transaction.number, transaction.inp, transaction.out, transaction.sig]\n",
    "    wrapped = {'data': toSerialize}\n",
    "    data = json.dumps(wrapped)\n",
    "    return data\n",
    "    \n",
    "def serializeBlock(block):\n",
    "    toSerialize = [block.tx, block.prev]\n",
    "    wrapped = {'data': toSerialize}\n",
    "    data = json.dumps(wrapped)\n",
    "    return data\n",
    "     \n",
    "def deserializeBlock(block):\n",
    "    wrapped = json.loads(block)\n",
    "    wrapped = wrapped['data']\n",
    "    return Block(wrapped[0], wrapped[1])\n",
    "        \n",
    "def deserializeTransaction(tx):\n",
    "    wrapped = json.loads(tx)\n",
    "    wrapped = wrapped['data']\n",
    "    return Transaction(wrapped[0], wrapped[1], wrapped[2], wrapped[3])\n",
    "\n",
    "def verifyWithPublicKey(pubkey, message, signature):\n",
    "    try:\n",
    "        verifyKey = str.encode(pubkey)\n",
    "        verifyKey = nacl.signing.VerifyKey(verifyKey,\n",
    "                                           encoder=nacl.encoding.HexEncoder)\n",
    "        sig = str.encode(signature)\n",
    "        bytesMessage = str.encode(str.encode(message).hex())\n",
    "        verifyKey.verify(bytesMessage, sig, encoder=nacl.encoding.HexEncoder)\n",
    "    except:\n",
    "        return False\n",
    "    return True\n",
    "\n",
    "def random_sum_to(n):\n",
    "    a = random.sample(range(1, n), random.randint(1, n-1)) + [0, n]\n",
    "    list.sort(a)\n",
    "    return [a[i+1] - a[i] for i in range(len(a) - 1)]\n",
    "\n",
    "def generateKeys(totalNodes):\n",
    "    pubkeys, prikeys = [], []\n",
    "    for i in range(totalNodes):\n",
    "        prikey = nacl.signing.SigningKey.generate()\n",
    "        # Obtain the verify key for a given signing key\n",
    "        pubkey = prikey.verify_key\n",
    "        # Serialize the verify key to send it to a third party\n",
    "        pubkey = pubkey.encode(encoder=nacl.encoding.HexEncoder)\n",
    "        pubkeys.append(str(pubkey, 'utf-8'))\n",
    "        prikeys.append(prikey)\n",
    "    pubkeyMap = {}\n",
    "    for i in range(totalNodes):\n",
    "        pubkeyMap[pubkeys[i]] = i\n",
    "    return pubkeys, prikeys, pubkeyMap\n",
    "\n",
    "def createGenesisTransaction(transactionList, result, pubkeys):\n",
    "    inp, out = [], []\n",
    "    for pubkey in pubkeys:\n",
    "        coins = random.randint(1,100)\n",
    "        out.append({\"value\": coins, \"pubkey\": pubkey})\n",
    "    sig = H(str.encode(str(inp) + str(out))).hexdigest()\n",
    "    number = H(str.encode(str(inp) + str(out) + sig)).hexdigest()\n",
    "    transaction = Transaction(number, inp, out, sig)\n",
    "    transactionList.append(transaction)\n",
    "    transactionAsJSON = {'number': number, 'input': inp, 'output': out, 'sig': sig}\n",
    "    result.append(transactionAsJSON)"
   ]
  },
  {
   "cell_type": "code",
   "execution_count": 55,
   "metadata": {
    "collapsed": true
   },
   "outputs": [],
   "source": [
    "def generateTransactions(transactionList, result, \n",
    "                         totalNodes, totalTransactions,\n",
    "                         pubkeys, prikeys, pubkeyMap):\n",
    "    for i in range(1, totalTransactions):\n",
    "        inputSum = 0\n",
    "        while inputSum <= 1:\n",
    "            inputSum = 0\n",
    "            transaction = transactionList[len(transactionList)-1]\n",
    "            receiver = random.randint(0, len(transaction.out)-1)\n",
    "            pubkeyReceiver = transaction.out[receiver]['pubkey']\n",
    "            receiverInput, receiverOutput = [], []\n",
    "            for receiverTransaction in transactionList:\n",
    "                if receiverTransaction == transaction:\n",
    "                    continue\n",
    "                for out in receiverTransaction.out:\n",
    "                    if out['pubkey'] == pubkeyReceiver:\n",
    "                        choose = choice([True, False])\n",
    "                        if choose:\n",
    "                            receiverInput.append({\"number\": receiverTransaction.number, \n",
    "                                                  \"output\": {\"value\": out['value'], \"pubkey\": pubkeyReceiver}})\n",
    "                            inputSum += out['value']\n",
    "            if not receiverInput:\n",
    "                receiverInput.append({\"number\": transaction.number, \n",
    "                                      \"output\": {\"value\": transaction.out[receiver]['value'], \"pubkey\": pubkeyReceiver}})\n",
    "                inputSum += transaction.out[receiver]['value']\n",
    "        x = random_sum_to(inputSum)\n",
    "        while len(x) == 0 or len(x) > totalNodes:\n",
    "            x = random_sum_to(inputSum)\n",
    "        ids = random.sample(range(totalNodes), len(x))\n",
    "        for i in range(len(x)):\n",
    "            receiverOutput.append({\"value\": x[i], \"pubkey\": pubkeys[ids[i]]})\n",
    "        serializedInput = \"\".join([str(inp['number']) + str(inp['output']['value']) + str(inp['output']['pubkey'])\n",
    "                                for inp in receiverInput])\n",
    "        serializedOutput = \"\".join([str(out['value']) + str(out['pubkey']) for out in receiverOutput])\n",
    "        message = str.encode(serializedInput + serializedOutput)\n",
    "        prikey = prikeys[pubkeyMap[pubkeyReceiver]]\n",
    "        signed = prikey.sign(message, encoder=nacl.encoding.HexEncoder)\n",
    "        sig = str(signed.signature, 'utf-8')\n",
    "        number = H(str.encode(serializedInput + serializedOutput + sig)).hexdigest()\n",
    "        nextTransaction = Transaction(number, receiverInput, receiverOutput, sig)\n",
    "        transactionList.append(nextTransaction)\n",
    "        transactionAsJSON = {'number': number, 'input': receiverInput, 'output': receiverOutput, 'sig': sig}\n",
    "        result.append(transactionAsJSON)"
   ]
  },
  {
   "cell_type": "code",
   "execution_count": 56,
   "metadata": {
    "collapsed": true
   },
   "outputs": [],
   "source": [
    "def run(totalCommunities, nodesPerCommunity, transactionLimitPerCommunity):\n",
    "    result = []\n",
    "    for i in range(totalCommunities):\n",
    "        pubkeys, prikeys, pubkeyMap = generateKeys(nodesPerCommunity)\n",
    "        transactionList, current = [], []\n",
    "        createGenesisTransaction(transactionList, current, pubkeys)\n",
    "        ntrans = random.randint(1, transactionLimitPerCommunity)\n",
    "        generateTransactions(transactionList, current, \n",
    "                             nodesPerCommunity, ntrans,\n",
    "                             pubkeys, prikeys, pubkeyMap)\n",
    "        keys = []\n",
    "        for i in range(len(pubkeys)):\n",
    "            prikey = prikeys[i].encode(encoder=nacl.encoding.HexEncoder).decode()\n",
    "            keys.append([pubkeys[i], prikey])\n",
    "        community = {'pool': current, 'signingKeys': keys}\n",
    "        result.append(community)\n",
    "    return result"
   ]
  },
  {
   "cell_type": "code",
   "execution_count": 57,
   "metadata": {
    "collapsed": false
   },
   "outputs": [
    {
     "name": "stdout",
     "output_type": "stream",
     "text": [
      "Transaction file generated (contains double spends): input/communities_8_nodes_10_transactions_50.txt\n"
     ]
    }
   ],
   "source": [
    "totalCommunities = 8\n",
    "nodesPerCommunity = 10\n",
    "transactionLimitPerCommunity = 50\n",
    "result = run(totalCommunities, nodesPerCommunity, transactionLimitPerCommunity)\n",
    "filename = (\"input/communities_\" + str(totalCommunities) + \"_nodes_\" + \n",
    "            str(nodesPerCommunity) + \"_transactions_\" + str(transactionLimitPerCommunity) + \".txt\")\n",
    "os.makedirs(os.path.dirname(filename), exist_ok=True)\n",
    "with open(filename, 'w') as outfile:\n",
    "    json.dump(result, outfile, sort_keys=False, indent=4, ensure_ascii=False)\n",
    "    outfile.close()\n",
    "print(\"Transaction file generated (contains double spends): \" + filename)"
   ]
  }
 ],
 "metadata": {
  "kernelspec": {
   "display_name": "Python 3",
   "language": "python",
   "name": "python3"
  },
  "language_info": {
   "codemirror_mode": {
    "name": "ipython",
    "version": 3
   },
   "file_extension": ".py",
   "mimetype": "text/x-python",
   "name": "python",
   "nbconvert_exporter": "python",
   "pygments_lexer": "ipython3",
   "version": "3.5.2"
  }
 },
 "nbformat": 4,
 "nbformat_minor": 2
}
